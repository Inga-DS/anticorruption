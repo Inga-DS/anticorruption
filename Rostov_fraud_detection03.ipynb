{
  "nbformat": 4,
  "nbformat_minor": 0,
  "metadata": {
    "colab": {
      "name": "Rostov_fraud_detection03.ipynb",
      "provenance": []
    },
    "kernelspec": {
      "name": "python3",
      "display_name": "Python 3"
    },
    "language_info": {
      "name": "python"
    }
  },
  "cells": [
    {
      "cell_type": "code",
      "execution_count": 1,
      "metadata": {
        "id": "DD8qQG6JEkPu",
        "colab": {
          "base_uri": "https://localhost:8080/"
        },
        "outputId": "01ef7baf-e9fc-4db2-a0f5-30a9177c694b"
      },
      "outputs": [
        {
          "output_type": "stream",
          "name": "stdout",
          "text": [
            "Collecting catboost\n",
            "  Downloading catboost-1.0.5-cp37-none-manylinux1_x86_64.whl (76.6 MB)\n",
            "\u001b[K     |████████████████████████████████| 76.6 MB 1.4 MB/s \n",
            "\u001b[?25hRequirement already satisfied: graphviz in /usr/local/lib/python3.7/dist-packages (from catboost) (0.10.1)\n",
            "Requirement already satisfied: scipy in /usr/local/lib/python3.7/dist-packages (from catboost) (1.4.1)\n",
            "Requirement already satisfied: plotly in /usr/local/lib/python3.7/dist-packages (from catboost) (5.5.0)\n",
            "Requirement already satisfied: pandas>=0.24.0 in /usr/local/lib/python3.7/dist-packages (from catboost) (1.3.5)\n",
            "Requirement already satisfied: six in /usr/local/lib/python3.7/dist-packages (from catboost) (1.15.0)\n",
            "Requirement already satisfied: matplotlib in /usr/local/lib/python3.7/dist-packages (from catboost) (3.2.2)\n",
            "Requirement already satisfied: numpy>=1.16.0 in /usr/local/lib/python3.7/dist-packages (from catboost) (1.21.6)\n",
            "Requirement already satisfied: python-dateutil>=2.7.3 in /usr/local/lib/python3.7/dist-packages (from pandas>=0.24.0->catboost) (2.8.2)\n",
            "Requirement already satisfied: pytz>=2017.3 in /usr/local/lib/python3.7/dist-packages (from pandas>=0.24.0->catboost) (2022.1)\n",
            "Requirement already satisfied: cycler>=0.10 in /usr/local/lib/python3.7/dist-packages (from matplotlib->catboost) (0.11.0)\n",
            "Requirement already satisfied: pyparsing!=2.0.4,!=2.1.2,!=2.1.6,>=2.0.1 in /usr/local/lib/python3.7/dist-packages (from matplotlib->catboost) (3.0.8)\n",
            "Requirement already satisfied: kiwisolver>=1.0.1 in /usr/local/lib/python3.7/dist-packages (from matplotlib->catboost) (1.4.2)\n",
            "Requirement already satisfied: typing-extensions in /usr/local/lib/python3.7/dist-packages (from kiwisolver>=1.0.1->matplotlib->catboost) (4.2.0)\n",
            "Requirement already satisfied: tenacity>=6.2.0 in /usr/local/lib/python3.7/dist-packages (from plotly->catboost) (8.0.1)\n",
            "Installing collected packages: catboost\n",
            "Successfully installed catboost-1.0.5\n"
          ]
        }
      ],
      "source": [
        "!pip install catboost"
      ]
    },
    {
      "cell_type": "markdown",
      "source": [
        "Решение команды DataKit в рамках хакатона 13-15 мая. \n",
        "Кейс 9. Предсказание подозрительных операций по банковским картам. Датасет https://www.kaggle.com/datasets/mlg-ulb/creditcardfraud?resource=download "
      ],
      "metadata": {
        "id": "pCV0D_XlEnCz"
      }
    },
    {
      "cell_type": "code",
      "source": [
        "import numpy as np\n",
        "import pandas as pd\n",
        "from sklearn.model_selection import train_test_split   #to divide dataset in train and test\n",
        "#Import scikit-learn metrics module for accuracy calculation\n",
        "from catboost import CatBoostClassifier\n",
        "from sklearn import metrics\n",
        "\n",
        "\n",
        "RS = 42  #we will fix random state\n"
      ],
      "metadata": {
        "id": "aSnnR44_EmLR"
      },
      "execution_count": 2,
      "outputs": []
    },
    {
      "cell_type": "code",
      "source": [
        "# подключаем гугл диск на котором данные\n",
        "from google.colab import drive\n",
        "drive.mount ('/content/gdrive', force_remount = True)"
      ],
      "metadata": {
        "colab": {
          "base_uri": "https://localhost:8080/"
        },
        "id": "AY--Ut3WE7DQ",
        "outputId": "afd34e69-a9e4-4753-b1aa-c540dc2f6f6e"
      },
      "execution_count": 4,
      "outputs": [
        {
          "output_type": "stream",
          "name": "stdout",
          "text": [
            "Mounted at /content/gdrive\n"
          ]
        }
      ]
    },
    {
      "cell_type": "code",
      "source": [
        "!cp /content/gdrive/'My Drive'/2022projects/Hack_Rostov_may13_15/archive.zip ."
      ],
      "metadata": {
        "id": "GaMN2uS9GFPk"
      },
      "execution_count": 5,
      "outputs": []
    },
    {
      "cell_type": "code",
      "source": [
        "!ls"
      ],
      "metadata": {
        "colab": {
          "base_uri": "https://localhost:8080/"
        },
        "id": "Hm3wdqvsICP0",
        "outputId": "23fec25b-7782-479b-ed5a-21027b8f8992"
      },
      "execution_count": 8,
      "outputs": [
        {
          "output_type": "stream",
          "name": "stdout",
          "text": [
            "archive.zip  creditcard.csv  gdrive  sample_data\n"
          ]
        }
      ]
    },
    {
      "cell_type": "code",
      "source": [
        "!unzip archive.zip"
      ],
      "metadata": {
        "colab": {
          "base_uri": "https://localhost:8080/"
        },
        "id": "bBIJ0-wTIEGa",
        "outputId": "3020e1da-63d5-4657-8cd2-450de1cc0ca0"
      },
      "execution_count": 7,
      "outputs": [
        {
          "output_type": "stream",
          "name": "stdout",
          "text": [
            "Archive:  archive.zip\n",
            "  inflating: creditcard.csv          \n"
          ]
        }
      ]
    },
    {
      "cell_type": "code",
      "source": [
        "data_df = pd.read_csv('creditcard.csv')\n",
        "data_df.head(2)\n"
      ],
      "metadata": {
        "colab": {
          "base_uri": "https://localhost:8080/",
          "height": 206
        },
        "id": "4olC0Y_kIObn",
        "outputId": "d8c1de88-779f-406f-89b4-a7a3aeeba563"
      },
      "execution_count": 9,
      "outputs": [
        {
          "output_type": "execute_result",
          "data": {
            "text/plain": [
              "   Time        V1        V2        V3        V4        V5        V6        V7  \\\n",
              "0   0.0 -1.359807 -0.072781  2.536347  1.378155 -0.338321  0.462388  0.239599   \n",
              "1   0.0  1.191857  0.266151  0.166480  0.448154  0.060018 -0.082361 -0.078803   \n",
              "\n",
              "         V8        V9  ...       V21       V22       V23       V24       V25  \\\n",
              "0  0.098698  0.363787  ... -0.018307  0.277838 -0.110474  0.066928  0.128539   \n",
              "1  0.085102 -0.255425  ... -0.225775 -0.638672  0.101288 -0.339846  0.167170   \n",
              "\n",
              "        V26       V27       V28  Amount  Class  \n",
              "0 -0.189115  0.133558 -0.021053  149.62      0  \n",
              "1  0.125895 -0.008983  0.014724    2.69      0  \n",
              "\n",
              "[2 rows x 31 columns]"
            ],
            "text/html": [
              "\n",
              "  <div id=\"df-1e69cfc2-546a-4f5a-bc43-28d1ba13272f\">\n",
              "    <div class=\"colab-df-container\">\n",
              "      <div>\n",
              "<style scoped>\n",
              "    .dataframe tbody tr th:only-of-type {\n",
              "        vertical-align: middle;\n",
              "    }\n",
              "\n",
              "    .dataframe tbody tr th {\n",
              "        vertical-align: top;\n",
              "    }\n",
              "\n",
              "    .dataframe thead th {\n",
              "        text-align: right;\n",
              "    }\n",
              "</style>\n",
              "<table border=\"1\" class=\"dataframe\">\n",
              "  <thead>\n",
              "    <tr style=\"text-align: right;\">\n",
              "      <th></th>\n",
              "      <th>Time</th>\n",
              "      <th>V1</th>\n",
              "      <th>V2</th>\n",
              "      <th>V3</th>\n",
              "      <th>V4</th>\n",
              "      <th>V5</th>\n",
              "      <th>V6</th>\n",
              "      <th>V7</th>\n",
              "      <th>V8</th>\n",
              "      <th>V9</th>\n",
              "      <th>...</th>\n",
              "      <th>V21</th>\n",
              "      <th>V22</th>\n",
              "      <th>V23</th>\n",
              "      <th>V24</th>\n",
              "      <th>V25</th>\n",
              "      <th>V26</th>\n",
              "      <th>V27</th>\n",
              "      <th>V28</th>\n",
              "      <th>Amount</th>\n",
              "      <th>Class</th>\n",
              "    </tr>\n",
              "  </thead>\n",
              "  <tbody>\n",
              "    <tr>\n",
              "      <th>0</th>\n",
              "      <td>0.0</td>\n",
              "      <td>-1.359807</td>\n",
              "      <td>-0.072781</td>\n",
              "      <td>2.536347</td>\n",
              "      <td>1.378155</td>\n",
              "      <td>-0.338321</td>\n",
              "      <td>0.462388</td>\n",
              "      <td>0.239599</td>\n",
              "      <td>0.098698</td>\n",
              "      <td>0.363787</td>\n",
              "      <td>...</td>\n",
              "      <td>-0.018307</td>\n",
              "      <td>0.277838</td>\n",
              "      <td>-0.110474</td>\n",
              "      <td>0.066928</td>\n",
              "      <td>0.128539</td>\n",
              "      <td>-0.189115</td>\n",
              "      <td>0.133558</td>\n",
              "      <td>-0.021053</td>\n",
              "      <td>149.62</td>\n",
              "      <td>0</td>\n",
              "    </tr>\n",
              "    <tr>\n",
              "      <th>1</th>\n",
              "      <td>0.0</td>\n",
              "      <td>1.191857</td>\n",
              "      <td>0.266151</td>\n",
              "      <td>0.166480</td>\n",
              "      <td>0.448154</td>\n",
              "      <td>0.060018</td>\n",
              "      <td>-0.082361</td>\n",
              "      <td>-0.078803</td>\n",
              "      <td>0.085102</td>\n",
              "      <td>-0.255425</td>\n",
              "      <td>...</td>\n",
              "      <td>-0.225775</td>\n",
              "      <td>-0.638672</td>\n",
              "      <td>0.101288</td>\n",
              "      <td>-0.339846</td>\n",
              "      <td>0.167170</td>\n",
              "      <td>0.125895</td>\n",
              "      <td>-0.008983</td>\n",
              "      <td>0.014724</td>\n",
              "      <td>2.69</td>\n",
              "      <td>0</td>\n",
              "    </tr>\n",
              "  </tbody>\n",
              "</table>\n",
              "<p>2 rows × 31 columns</p>\n",
              "</div>\n",
              "      <button class=\"colab-df-convert\" onclick=\"convertToInteractive('df-1e69cfc2-546a-4f5a-bc43-28d1ba13272f')\"\n",
              "              title=\"Convert this dataframe to an interactive table.\"\n",
              "              style=\"display:none;\">\n",
              "        \n",
              "  <svg xmlns=\"http://www.w3.org/2000/svg\" height=\"24px\"viewBox=\"0 0 24 24\"\n",
              "       width=\"24px\">\n",
              "    <path d=\"M0 0h24v24H0V0z\" fill=\"none\"/>\n",
              "    <path d=\"M18.56 5.44l.94 2.06.94-2.06 2.06-.94-2.06-.94-.94-2.06-.94 2.06-2.06.94zm-11 1L8.5 8.5l.94-2.06 2.06-.94-2.06-.94L8.5 2.5l-.94 2.06-2.06.94zm10 10l.94 2.06.94-2.06 2.06-.94-2.06-.94-.94-2.06-.94 2.06-2.06.94z\"/><path d=\"M17.41 7.96l-1.37-1.37c-.4-.4-.92-.59-1.43-.59-.52 0-1.04.2-1.43.59L10.3 9.45l-7.72 7.72c-.78.78-.78 2.05 0 2.83L4 21.41c.39.39.9.59 1.41.59.51 0 1.02-.2 1.41-.59l7.78-7.78 2.81-2.81c.8-.78.8-2.07 0-2.86zM5.41 20L4 18.59l7.72-7.72 1.47 1.35L5.41 20z\"/>\n",
              "  </svg>\n",
              "      </button>\n",
              "      \n",
              "  <style>\n",
              "    .colab-df-container {\n",
              "      display:flex;\n",
              "      flex-wrap:wrap;\n",
              "      gap: 12px;\n",
              "    }\n",
              "\n",
              "    .colab-df-convert {\n",
              "      background-color: #E8F0FE;\n",
              "      border: none;\n",
              "      border-radius: 50%;\n",
              "      cursor: pointer;\n",
              "      display: none;\n",
              "      fill: #1967D2;\n",
              "      height: 32px;\n",
              "      padding: 0 0 0 0;\n",
              "      width: 32px;\n",
              "    }\n",
              "\n",
              "    .colab-df-convert:hover {\n",
              "      background-color: #E2EBFA;\n",
              "      box-shadow: 0px 1px 2px rgba(60, 64, 67, 0.3), 0px 1px 3px 1px rgba(60, 64, 67, 0.15);\n",
              "      fill: #174EA6;\n",
              "    }\n",
              "\n",
              "    [theme=dark] .colab-df-convert {\n",
              "      background-color: #3B4455;\n",
              "      fill: #D2E3FC;\n",
              "    }\n",
              "\n",
              "    [theme=dark] .colab-df-convert:hover {\n",
              "      background-color: #434B5C;\n",
              "      box-shadow: 0px 1px 3px 1px rgba(0, 0, 0, 0.15);\n",
              "      filter: drop-shadow(0px 1px 2px rgba(0, 0, 0, 0.3));\n",
              "      fill: #FFFFFF;\n",
              "    }\n",
              "  </style>\n",
              "\n",
              "      <script>\n",
              "        const buttonEl =\n",
              "          document.querySelector('#df-1e69cfc2-546a-4f5a-bc43-28d1ba13272f button.colab-df-convert');\n",
              "        buttonEl.style.display =\n",
              "          google.colab.kernel.accessAllowed ? 'block' : 'none';\n",
              "\n",
              "        async function convertToInteractive(key) {\n",
              "          const element = document.querySelector('#df-1e69cfc2-546a-4f5a-bc43-28d1ba13272f');\n",
              "          const dataTable =\n",
              "            await google.colab.kernel.invokeFunction('convertToInteractive',\n",
              "                                                     [key], {});\n",
              "          if (!dataTable) return;\n",
              "\n",
              "          const docLinkHtml = 'Like what you see? Visit the ' +\n",
              "            '<a target=\"_blank\" href=https://colab.research.google.com/notebooks/data_table.ipynb>data table notebook</a>'\n",
              "            + ' to learn more about interactive tables.';\n",
              "          element.innerHTML = '';\n",
              "          dataTable['output_type'] = 'display_data';\n",
              "          await google.colab.output.renderOutput(dataTable, element);\n",
              "          const docLink = document.createElement('div');\n",
              "          docLink.innerHTML = docLinkHtml;\n",
              "          element.appendChild(docLink);\n",
              "        }\n",
              "      </script>\n",
              "    </div>\n",
              "  </div>\n",
              "  "
            ]
          },
          "metadata": {},
          "execution_count": 9
        }
      ]
    },
    {
      "cell_type": "code",
      "source": [
        "data_df.describe().T"
      ],
      "metadata": {
        "id": "vdm95vNkzVT3",
        "colab": {
          "base_uri": "https://localhost:8080/",
          "height": 1000
        },
        "outputId": "db55a1c6-2559-4d01-fe7b-3dccb5e0fbac"
      },
      "execution_count": 10,
      "outputs": [
        {
          "output_type": "execute_result",
          "data": {
            "text/plain": [
              "           count          mean           std         min           25%  \\\n",
              "Time    284807.0  9.481386e+04  47488.145955    0.000000  54201.500000   \n",
              "V1      284807.0  3.918649e-15      1.958696  -56.407510     -0.920373   \n",
              "V2      284807.0  5.682686e-16      1.651309  -72.715728     -0.598550   \n",
              "V3      284807.0 -8.761736e-15      1.516255  -48.325589     -0.890365   \n",
              "V4      284807.0  2.811118e-15      1.415869   -5.683171     -0.848640   \n",
              "V5      284807.0 -1.552103e-15      1.380247 -113.743307     -0.691597   \n",
              "V6      284807.0  2.040130e-15      1.332271  -26.160506     -0.768296   \n",
              "V7      284807.0 -1.698953e-15      1.237094  -43.557242     -0.554076   \n",
              "V8      284807.0 -1.893285e-16      1.194353  -73.216718     -0.208630   \n",
              "V9      284807.0 -3.147640e-15      1.098632  -13.434066     -0.643098   \n",
              "V10     284807.0  1.772925e-15      1.088850  -24.588262     -0.535426   \n",
              "V11     284807.0  9.289524e-16      1.020713   -4.797473     -0.762494   \n",
              "V12     284807.0 -1.803266e-15      0.999201  -18.683715     -0.405571   \n",
              "V13     284807.0  1.674888e-15      0.995274   -5.791881     -0.648539   \n",
              "V14     284807.0  1.475621e-15      0.958596  -19.214325     -0.425574   \n",
              "V15     284807.0  3.501098e-15      0.915316   -4.498945     -0.582884   \n",
              "V16     284807.0  1.392460e-15      0.876253  -14.129855     -0.468037   \n",
              "V17     284807.0 -7.466538e-16      0.849337  -25.162799     -0.483748   \n",
              "V18     284807.0  4.258754e-16      0.838176   -9.498746     -0.498850   \n",
              "V19     284807.0  9.019919e-16      0.814041   -7.213527     -0.456299   \n",
              "V20     284807.0  5.126845e-16      0.770925  -54.497720     -0.211721   \n",
              "V21     284807.0  1.473120e-16      0.734524  -34.830382     -0.228395   \n",
              "V22     284807.0  8.042109e-16      0.725702  -10.933144     -0.542350   \n",
              "V23     284807.0  5.282512e-16      0.624460  -44.807735     -0.161846   \n",
              "V24     284807.0  4.456271e-15      0.605647   -2.836627     -0.354586   \n",
              "V25     284807.0  1.426896e-15      0.521278  -10.295397     -0.317145   \n",
              "V26     284807.0  1.701640e-15      0.482227   -2.604551     -0.326984   \n",
              "V27     284807.0 -3.662252e-16      0.403632  -22.565679     -0.070840   \n",
              "V28     284807.0 -1.217809e-16      0.330083  -15.430084     -0.052960   \n",
              "Amount  284807.0  8.834962e+01    250.120109    0.000000      5.600000   \n",
              "Class   284807.0  1.727486e-03      0.041527    0.000000      0.000000   \n",
              "\n",
              "                 50%            75%            max  \n",
              "Time    84692.000000  139320.500000  172792.000000  \n",
              "V1          0.018109       1.315642       2.454930  \n",
              "V2          0.065486       0.803724      22.057729  \n",
              "V3          0.179846       1.027196       9.382558  \n",
              "V4         -0.019847       0.743341      16.875344  \n",
              "V5         -0.054336       0.611926      34.801666  \n",
              "V6         -0.274187       0.398565      73.301626  \n",
              "V7          0.040103       0.570436     120.589494  \n",
              "V8          0.022358       0.327346      20.007208  \n",
              "V9         -0.051429       0.597139      15.594995  \n",
              "V10        -0.092917       0.453923      23.745136  \n",
              "V11        -0.032757       0.739593      12.018913  \n",
              "V12         0.140033       0.618238       7.848392  \n",
              "V13        -0.013568       0.662505       7.126883  \n",
              "V14         0.050601       0.493150      10.526766  \n",
              "V15         0.048072       0.648821       8.877742  \n",
              "V16         0.066413       0.523296      17.315112  \n",
              "V17        -0.065676       0.399675       9.253526  \n",
              "V18        -0.003636       0.500807       5.041069  \n",
              "V19         0.003735       0.458949       5.591971  \n",
              "V20        -0.062481       0.133041      39.420904  \n",
              "V21        -0.029450       0.186377      27.202839  \n",
              "V22         0.006782       0.528554      10.503090  \n",
              "V23        -0.011193       0.147642      22.528412  \n",
              "V24         0.040976       0.439527       4.584549  \n",
              "V25         0.016594       0.350716       7.519589  \n",
              "V26        -0.052139       0.240952       3.517346  \n",
              "V27         0.001342       0.091045      31.612198  \n",
              "V28         0.011244       0.078280      33.847808  \n",
              "Amount     22.000000      77.165000   25691.160000  \n",
              "Class       0.000000       0.000000       1.000000  "
            ],
            "text/html": [
              "\n",
              "  <div id=\"df-09515857-932f-4b36-b7f7-b4c8c3c6be27\">\n",
              "    <div class=\"colab-df-container\">\n",
              "      <div>\n",
              "<style scoped>\n",
              "    .dataframe tbody tr th:only-of-type {\n",
              "        vertical-align: middle;\n",
              "    }\n",
              "\n",
              "    .dataframe tbody tr th {\n",
              "        vertical-align: top;\n",
              "    }\n",
              "\n",
              "    .dataframe thead th {\n",
              "        text-align: right;\n",
              "    }\n",
              "</style>\n",
              "<table border=\"1\" class=\"dataframe\">\n",
              "  <thead>\n",
              "    <tr style=\"text-align: right;\">\n",
              "      <th></th>\n",
              "      <th>count</th>\n",
              "      <th>mean</th>\n",
              "      <th>std</th>\n",
              "      <th>min</th>\n",
              "      <th>25%</th>\n",
              "      <th>50%</th>\n",
              "      <th>75%</th>\n",
              "      <th>max</th>\n",
              "    </tr>\n",
              "  </thead>\n",
              "  <tbody>\n",
              "    <tr>\n",
              "      <th>Time</th>\n",
              "      <td>284807.0</td>\n",
              "      <td>9.481386e+04</td>\n",
              "      <td>47488.145955</td>\n",
              "      <td>0.000000</td>\n",
              "      <td>54201.500000</td>\n",
              "      <td>84692.000000</td>\n",
              "      <td>139320.500000</td>\n",
              "      <td>172792.000000</td>\n",
              "    </tr>\n",
              "    <tr>\n",
              "      <th>V1</th>\n",
              "      <td>284807.0</td>\n",
              "      <td>3.918649e-15</td>\n",
              "      <td>1.958696</td>\n",
              "      <td>-56.407510</td>\n",
              "      <td>-0.920373</td>\n",
              "      <td>0.018109</td>\n",
              "      <td>1.315642</td>\n",
              "      <td>2.454930</td>\n",
              "    </tr>\n",
              "    <tr>\n",
              "      <th>V2</th>\n",
              "      <td>284807.0</td>\n",
              "      <td>5.682686e-16</td>\n",
              "      <td>1.651309</td>\n",
              "      <td>-72.715728</td>\n",
              "      <td>-0.598550</td>\n",
              "      <td>0.065486</td>\n",
              "      <td>0.803724</td>\n",
              "      <td>22.057729</td>\n",
              "    </tr>\n",
              "    <tr>\n",
              "      <th>V3</th>\n",
              "      <td>284807.0</td>\n",
              "      <td>-8.761736e-15</td>\n",
              "      <td>1.516255</td>\n",
              "      <td>-48.325589</td>\n",
              "      <td>-0.890365</td>\n",
              "      <td>0.179846</td>\n",
              "      <td>1.027196</td>\n",
              "      <td>9.382558</td>\n",
              "    </tr>\n",
              "    <tr>\n",
              "      <th>V4</th>\n",
              "      <td>284807.0</td>\n",
              "      <td>2.811118e-15</td>\n",
              "      <td>1.415869</td>\n",
              "      <td>-5.683171</td>\n",
              "      <td>-0.848640</td>\n",
              "      <td>-0.019847</td>\n",
              "      <td>0.743341</td>\n",
              "      <td>16.875344</td>\n",
              "    </tr>\n",
              "    <tr>\n",
              "      <th>V5</th>\n",
              "      <td>284807.0</td>\n",
              "      <td>-1.552103e-15</td>\n",
              "      <td>1.380247</td>\n",
              "      <td>-113.743307</td>\n",
              "      <td>-0.691597</td>\n",
              "      <td>-0.054336</td>\n",
              "      <td>0.611926</td>\n",
              "      <td>34.801666</td>\n",
              "    </tr>\n",
              "    <tr>\n",
              "      <th>V6</th>\n",
              "      <td>284807.0</td>\n",
              "      <td>2.040130e-15</td>\n",
              "      <td>1.332271</td>\n",
              "      <td>-26.160506</td>\n",
              "      <td>-0.768296</td>\n",
              "      <td>-0.274187</td>\n",
              "      <td>0.398565</td>\n",
              "      <td>73.301626</td>\n",
              "    </tr>\n",
              "    <tr>\n",
              "      <th>V7</th>\n",
              "      <td>284807.0</td>\n",
              "      <td>-1.698953e-15</td>\n",
              "      <td>1.237094</td>\n",
              "      <td>-43.557242</td>\n",
              "      <td>-0.554076</td>\n",
              "      <td>0.040103</td>\n",
              "      <td>0.570436</td>\n",
              "      <td>120.589494</td>\n",
              "    </tr>\n",
              "    <tr>\n",
              "      <th>V8</th>\n",
              "      <td>284807.0</td>\n",
              "      <td>-1.893285e-16</td>\n",
              "      <td>1.194353</td>\n",
              "      <td>-73.216718</td>\n",
              "      <td>-0.208630</td>\n",
              "      <td>0.022358</td>\n",
              "      <td>0.327346</td>\n",
              "      <td>20.007208</td>\n",
              "    </tr>\n",
              "    <tr>\n",
              "      <th>V9</th>\n",
              "      <td>284807.0</td>\n",
              "      <td>-3.147640e-15</td>\n",
              "      <td>1.098632</td>\n",
              "      <td>-13.434066</td>\n",
              "      <td>-0.643098</td>\n",
              "      <td>-0.051429</td>\n",
              "      <td>0.597139</td>\n",
              "      <td>15.594995</td>\n",
              "    </tr>\n",
              "    <tr>\n",
              "      <th>V10</th>\n",
              "      <td>284807.0</td>\n",
              "      <td>1.772925e-15</td>\n",
              "      <td>1.088850</td>\n",
              "      <td>-24.588262</td>\n",
              "      <td>-0.535426</td>\n",
              "      <td>-0.092917</td>\n",
              "      <td>0.453923</td>\n",
              "      <td>23.745136</td>\n",
              "    </tr>\n",
              "    <tr>\n",
              "      <th>V11</th>\n",
              "      <td>284807.0</td>\n",
              "      <td>9.289524e-16</td>\n",
              "      <td>1.020713</td>\n",
              "      <td>-4.797473</td>\n",
              "      <td>-0.762494</td>\n",
              "      <td>-0.032757</td>\n",
              "      <td>0.739593</td>\n",
              "      <td>12.018913</td>\n",
              "    </tr>\n",
              "    <tr>\n",
              "      <th>V12</th>\n",
              "      <td>284807.0</td>\n",
              "      <td>-1.803266e-15</td>\n",
              "      <td>0.999201</td>\n",
              "      <td>-18.683715</td>\n",
              "      <td>-0.405571</td>\n",
              "      <td>0.140033</td>\n",
              "      <td>0.618238</td>\n",
              "      <td>7.848392</td>\n",
              "    </tr>\n",
              "    <tr>\n",
              "      <th>V13</th>\n",
              "      <td>284807.0</td>\n",
              "      <td>1.674888e-15</td>\n",
              "      <td>0.995274</td>\n",
              "      <td>-5.791881</td>\n",
              "      <td>-0.648539</td>\n",
              "      <td>-0.013568</td>\n",
              "      <td>0.662505</td>\n",
              "      <td>7.126883</td>\n",
              "    </tr>\n",
              "    <tr>\n",
              "      <th>V14</th>\n",
              "      <td>284807.0</td>\n",
              "      <td>1.475621e-15</td>\n",
              "      <td>0.958596</td>\n",
              "      <td>-19.214325</td>\n",
              "      <td>-0.425574</td>\n",
              "      <td>0.050601</td>\n",
              "      <td>0.493150</td>\n",
              "      <td>10.526766</td>\n",
              "    </tr>\n",
              "    <tr>\n",
              "      <th>V15</th>\n",
              "      <td>284807.0</td>\n",
              "      <td>3.501098e-15</td>\n",
              "      <td>0.915316</td>\n",
              "      <td>-4.498945</td>\n",
              "      <td>-0.582884</td>\n",
              "      <td>0.048072</td>\n",
              "      <td>0.648821</td>\n",
              "      <td>8.877742</td>\n",
              "    </tr>\n",
              "    <tr>\n",
              "      <th>V16</th>\n",
              "      <td>284807.0</td>\n",
              "      <td>1.392460e-15</td>\n",
              "      <td>0.876253</td>\n",
              "      <td>-14.129855</td>\n",
              "      <td>-0.468037</td>\n",
              "      <td>0.066413</td>\n",
              "      <td>0.523296</td>\n",
              "      <td>17.315112</td>\n",
              "    </tr>\n",
              "    <tr>\n",
              "      <th>V17</th>\n",
              "      <td>284807.0</td>\n",
              "      <td>-7.466538e-16</td>\n",
              "      <td>0.849337</td>\n",
              "      <td>-25.162799</td>\n",
              "      <td>-0.483748</td>\n",
              "      <td>-0.065676</td>\n",
              "      <td>0.399675</td>\n",
              "      <td>9.253526</td>\n",
              "    </tr>\n",
              "    <tr>\n",
              "      <th>V18</th>\n",
              "      <td>284807.0</td>\n",
              "      <td>4.258754e-16</td>\n",
              "      <td>0.838176</td>\n",
              "      <td>-9.498746</td>\n",
              "      <td>-0.498850</td>\n",
              "      <td>-0.003636</td>\n",
              "      <td>0.500807</td>\n",
              "      <td>5.041069</td>\n",
              "    </tr>\n",
              "    <tr>\n",
              "      <th>V19</th>\n",
              "      <td>284807.0</td>\n",
              "      <td>9.019919e-16</td>\n",
              "      <td>0.814041</td>\n",
              "      <td>-7.213527</td>\n",
              "      <td>-0.456299</td>\n",
              "      <td>0.003735</td>\n",
              "      <td>0.458949</td>\n",
              "      <td>5.591971</td>\n",
              "    </tr>\n",
              "    <tr>\n",
              "      <th>V20</th>\n",
              "      <td>284807.0</td>\n",
              "      <td>5.126845e-16</td>\n",
              "      <td>0.770925</td>\n",
              "      <td>-54.497720</td>\n",
              "      <td>-0.211721</td>\n",
              "      <td>-0.062481</td>\n",
              "      <td>0.133041</td>\n",
              "      <td>39.420904</td>\n",
              "    </tr>\n",
              "    <tr>\n",
              "      <th>V21</th>\n",
              "      <td>284807.0</td>\n",
              "      <td>1.473120e-16</td>\n",
              "      <td>0.734524</td>\n",
              "      <td>-34.830382</td>\n",
              "      <td>-0.228395</td>\n",
              "      <td>-0.029450</td>\n",
              "      <td>0.186377</td>\n",
              "      <td>27.202839</td>\n",
              "    </tr>\n",
              "    <tr>\n",
              "      <th>V22</th>\n",
              "      <td>284807.0</td>\n",
              "      <td>8.042109e-16</td>\n",
              "      <td>0.725702</td>\n",
              "      <td>-10.933144</td>\n",
              "      <td>-0.542350</td>\n",
              "      <td>0.006782</td>\n",
              "      <td>0.528554</td>\n",
              "      <td>10.503090</td>\n",
              "    </tr>\n",
              "    <tr>\n",
              "      <th>V23</th>\n",
              "      <td>284807.0</td>\n",
              "      <td>5.282512e-16</td>\n",
              "      <td>0.624460</td>\n",
              "      <td>-44.807735</td>\n",
              "      <td>-0.161846</td>\n",
              "      <td>-0.011193</td>\n",
              "      <td>0.147642</td>\n",
              "      <td>22.528412</td>\n",
              "    </tr>\n",
              "    <tr>\n",
              "      <th>V24</th>\n",
              "      <td>284807.0</td>\n",
              "      <td>4.456271e-15</td>\n",
              "      <td>0.605647</td>\n",
              "      <td>-2.836627</td>\n",
              "      <td>-0.354586</td>\n",
              "      <td>0.040976</td>\n",
              "      <td>0.439527</td>\n",
              "      <td>4.584549</td>\n",
              "    </tr>\n",
              "    <tr>\n",
              "      <th>V25</th>\n",
              "      <td>284807.0</td>\n",
              "      <td>1.426896e-15</td>\n",
              "      <td>0.521278</td>\n",
              "      <td>-10.295397</td>\n",
              "      <td>-0.317145</td>\n",
              "      <td>0.016594</td>\n",
              "      <td>0.350716</td>\n",
              "      <td>7.519589</td>\n",
              "    </tr>\n",
              "    <tr>\n",
              "      <th>V26</th>\n",
              "      <td>284807.0</td>\n",
              "      <td>1.701640e-15</td>\n",
              "      <td>0.482227</td>\n",
              "      <td>-2.604551</td>\n",
              "      <td>-0.326984</td>\n",
              "      <td>-0.052139</td>\n",
              "      <td>0.240952</td>\n",
              "      <td>3.517346</td>\n",
              "    </tr>\n",
              "    <tr>\n",
              "      <th>V27</th>\n",
              "      <td>284807.0</td>\n",
              "      <td>-3.662252e-16</td>\n",
              "      <td>0.403632</td>\n",
              "      <td>-22.565679</td>\n",
              "      <td>-0.070840</td>\n",
              "      <td>0.001342</td>\n",
              "      <td>0.091045</td>\n",
              "      <td>31.612198</td>\n",
              "    </tr>\n",
              "    <tr>\n",
              "      <th>V28</th>\n",
              "      <td>284807.0</td>\n",
              "      <td>-1.217809e-16</td>\n",
              "      <td>0.330083</td>\n",
              "      <td>-15.430084</td>\n",
              "      <td>-0.052960</td>\n",
              "      <td>0.011244</td>\n",
              "      <td>0.078280</td>\n",
              "      <td>33.847808</td>\n",
              "    </tr>\n",
              "    <tr>\n",
              "      <th>Amount</th>\n",
              "      <td>284807.0</td>\n",
              "      <td>8.834962e+01</td>\n",
              "      <td>250.120109</td>\n",
              "      <td>0.000000</td>\n",
              "      <td>5.600000</td>\n",
              "      <td>22.000000</td>\n",
              "      <td>77.165000</td>\n",
              "      <td>25691.160000</td>\n",
              "    </tr>\n",
              "    <tr>\n",
              "      <th>Class</th>\n",
              "      <td>284807.0</td>\n",
              "      <td>1.727486e-03</td>\n",
              "      <td>0.041527</td>\n",
              "      <td>0.000000</td>\n",
              "      <td>0.000000</td>\n",
              "      <td>0.000000</td>\n",
              "      <td>0.000000</td>\n",
              "      <td>1.000000</td>\n",
              "    </tr>\n",
              "  </tbody>\n",
              "</table>\n",
              "</div>\n",
              "      <button class=\"colab-df-convert\" onclick=\"convertToInteractive('df-09515857-932f-4b36-b7f7-b4c8c3c6be27')\"\n",
              "              title=\"Convert this dataframe to an interactive table.\"\n",
              "              style=\"display:none;\">\n",
              "        \n",
              "  <svg xmlns=\"http://www.w3.org/2000/svg\" height=\"24px\"viewBox=\"0 0 24 24\"\n",
              "       width=\"24px\">\n",
              "    <path d=\"M0 0h24v24H0V0z\" fill=\"none\"/>\n",
              "    <path d=\"M18.56 5.44l.94 2.06.94-2.06 2.06-.94-2.06-.94-.94-2.06-.94 2.06-2.06.94zm-11 1L8.5 8.5l.94-2.06 2.06-.94-2.06-.94L8.5 2.5l-.94 2.06-2.06.94zm10 10l.94 2.06.94-2.06 2.06-.94-2.06-.94-.94-2.06-.94 2.06-2.06.94z\"/><path d=\"M17.41 7.96l-1.37-1.37c-.4-.4-.92-.59-1.43-.59-.52 0-1.04.2-1.43.59L10.3 9.45l-7.72 7.72c-.78.78-.78 2.05 0 2.83L4 21.41c.39.39.9.59 1.41.59.51 0 1.02-.2 1.41-.59l7.78-7.78 2.81-2.81c.8-.78.8-2.07 0-2.86zM5.41 20L4 18.59l7.72-7.72 1.47 1.35L5.41 20z\"/>\n",
              "  </svg>\n",
              "      </button>\n",
              "      \n",
              "  <style>\n",
              "    .colab-df-container {\n",
              "      display:flex;\n",
              "      flex-wrap:wrap;\n",
              "      gap: 12px;\n",
              "    }\n",
              "\n",
              "    .colab-df-convert {\n",
              "      background-color: #E8F0FE;\n",
              "      border: none;\n",
              "      border-radius: 50%;\n",
              "      cursor: pointer;\n",
              "      display: none;\n",
              "      fill: #1967D2;\n",
              "      height: 32px;\n",
              "      padding: 0 0 0 0;\n",
              "      width: 32px;\n",
              "    }\n",
              "\n",
              "    .colab-df-convert:hover {\n",
              "      background-color: #E2EBFA;\n",
              "      box-shadow: 0px 1px 2px rgba(60, 64, 67, 0.3), 0px 1px 3px 1px rgba(60, 64, 67, 0.15);\n",
              "      fill: #174EA6;\n",
              "    }\n",
              "\n",
              "    [theme=dark] .colab-df-convert {\n",
              "      background-color: #3B4455;\n",
              "      fill: #D2E3FC;\n",
              "    }\n",
              "\n",
              "    [theme=dark] .colab-df-convert:hover {\n",
              "      background-color: #434B5C;\n",
              "      box-shadow: 0px 1px 3px 1px rgba(0, 0, 0, 0.15);\n",
              "      filter: drop-shadow(0px 1px 2px rgba(0, 0, 0, 0.3));\n",
              "      fill: #FFFFFF;\n",
              "    }\n",
              "  </style>\n",
              "\n",
              "      <script>\n",
              "        const buttonEl =\n",
              "          document.querySelector('#df-09515857-932f-4b36-b7f7-b4c8c3c6be27 button.colab-df-convert');\n",
              "        buttonEl.style.display =\n",
              "          google.colab.kernel.accessAllowed ? 'block' : 'none';\n",
              "\n",
              "        async function convertToInteractive(key) {\n",
              "          const element = document.querySelector('#df-09515857-932f-4b36-b7f7-b4c8c3c6be27');\n",
              "          const dataTable =\n",
              "            await google.colab.kernel.invokeFunction('convertToInteractive',\n",
              "                                                     [key], {});\n",
              "          if (!dataTable) return;\n",
              "\n",
              "          const docLinkHtml = 'Like what you see? Visit the ' +\n",
              "            '<a target=\"_blank\" href=https://colab.research.google.com/notebooks/data_table.ipynb>data table notebook</a>'\n",
              "            + ' to learn more about interactive tables.';\n",
              "          element.innerHTML = '';\n",
              "          dataTable['output_type'] = 'display_data';\n",
              "          await google.colab.output.renderOutput(dataTable, element);\n",
              "          const docLink = document.createElement('div');\n",
              "          docLink.innerHTML = docLinkHtml;\n",
              "          element.appendChild(docLink);\n",
              "        }\n",
              "      </script>\n",
              "    </div>\n",
              "  </div>\n",
              "  "
            ]
          },
          "metadata": {},
          "execution_count": 10
        }
      ]
    },
    {
      "cell_type": "code",
      "source": [
        "train_df = data_df[:280_000]\n",
        "test_df = data_df[280_000:]"
      ],
      "metadata": {
        "id": "WDYtB5U1zgH_"
      },
      "execution_count": 12,
      "outputs": []
    },
    {
      "cell_type": "code",
      "source": [
        "data_df.shape"
      ],
      "metadata": {
        "colab": {
          "base_uri": "https://localhost:8080/"
        },
        "id": "nAZryVMdIaPP",
        "outputId": "7a94bc77-2789-4158-de7d-44dc037c84f9"
      },
      "execution_count": 11,
      "outputs": [
        {
          "output_type": "execute_result",
          "data": {
            "text/plain": [
              "(284807, 31)"
            ]
          },
          "metadata": {},
          "execution_count": 11
        }
      ]
    },
    {
      "cell_type": "code",
      "source": [
        "train_df.columns"
      ],
      "metadata": {
        "colab": {
          "base_uri": "https://localhost:8080/"
        },
        "id": "F7sRQbLyIiyY",
        "outputId": "551b04ac-c0e7-46d5-ac10-c1ba90021eae"
      },
      "execution_count": 13,
      "outputs": [
        {
          "output_type": "execute_result",
          "data": {
            "text/plain": [
              "Index(['Time', 'V1', 'V2', 'V3', 'V4', 'V5', 'V6', 'V7', 'V8', 'V9', 'V10',\n",
              "       'V11', 'V12', 'V13', 'V14', 'V15', 'V16', 'V17', 'V18', 'V19', 'V20',\n",
              "       'V21', 'V22', 'V23', 'V24', 'V25', 'V26', 'V27', 'V28', 'Amount',\n",
              "       'Class'],\n",
              "      dtype='object')"
            ]
          },
          "metadata": {},
          "execution_count": 13
        }
      ]
    },
    {
      "cell_type": "code",
      "source": [
        "X_features = ['V1', 'V2', 'V3', 'V4', 'V5', 'V6', 'V7', 'V8', 'V9', 'V10',\n",
        "       'V11', 'V12', 'V13', 'V14', 'V15', 'V16', 'V17', 'V18', 'V19', 'V20',\n",
        "       'V21', 'V22', 'V23', 'V24', 'V25', 'V26', 'V27', 'V28', 'Amount']"
      ],
      "metadata": {
        "id": "eBjm9LyMJoou"
      },
      "execution_count": 14,
      "outputs": []
    },
    {
      "cell_type": "code",
      "source": [
        "#DIVIDE DATA TO TRAIN AND TEST\n",
        "X_train, X_val, y_train, y_val = train_test_split(train_df[X_features], \n",
        "                                                                      train_df['Class'],\n",
        "                                                                      shuffle=True, \n",
        "                                                                      test_size=0.3,random_state=RS)\n"
      ],
      "metadata": {
        "id": "26b0YLehJhxe"
      },
      "execution_count": 15,
      "outputs": []
    },
    {
      "cell_type": "code",
      "source": [
        "clf = CatBoostClassifier(\n",
        "    iterations=100,\n",
        "    depth = 11,\n",
        "    learning_rate=0.1,\n",
        "    loss_function='CrossEntropy',\n",
        "    random_seed = RS\n",
        ")"
      ],
      "metadata": {
        "id": "hv_s2zJtJ7OK"
      },
      "execution_count": 34,
      "outputs": []
    },
    {
      "cell_type": "code",
      "source": [
        "#Train the model using the training sets y_pred=clf.predict(X_test)\n",
        "clf.fit(X_train,y_train)"
      ],
      "metadata": {
        "colab": {
          "base_uri": "https://localhost:8080/"
        },
        "id": "HkDZoI7QKTd7",
        "outputId": "d463678a-6d60-49d8-c2db-9efa68d487ba"
      },
      "execution_count": 35,
      "outputs": [
        {
          "output_type": "stream",
          "name": "stdout",
          "text": [
            "0:\tlearn: 0.3929621\ttotal: 296ms\tremaining: 29.4s\n",
            "1:\tlearn: 0.2207760\ttotal: 592ms\tremaining: 29s\n",
            "2:\tlearn: 0.1259318\ttotal: 902ms\tremaining: 29.2s\n",
            "3:\tlearn: 0.0723031\ttotal: 1.19s\tremaining: 28.6s\n",
            "4:\tlearn: 0.0453382\ttotal: 1.5s\tremaining: 28.6s\n",
            "5:\tlearn: 0.0290747\ttotal: 1.81s\tremaining: 28.3s\n",
            "6:\tlearn: 0.0197568\ttotal: 2.1s\tremaining: 27.9s\n",
            "7:\tlearn: 0.0141205\ttotal: 2.41s\tremaining: 27.8s\n",
            "8:\tlearn: 0.0105698\ttotal: 2.7s\tremaining: 27.3s\n",
            "9:\tlearn: 0.0080658\ttotal: 3s\tremaining: 27s\n",
            "10:\tlearn: 0.0064716\ttotal: 3.29s\tremaining: 26.6s\n",
            "11:\tlearn: 0.0053803\ttotal: 3.58s\tremaining: 26.3s\n",
            "12:\tlearn: 0.0045213\ttotal: 3.88s\tremaining: 26s\n",
            "13:\tlearn: 0.0039569\ttotal: 4.17s\tremaining: 25.6s\n",
            "14:\tlearn: 0.0035453\ttotal: 4.46s\tremaining: 25.3s\n",
            "15:\tlearn: 0.0032120\ttotal: 4.77s\tremaining: 25s\n",
            "16:\tlearn: 0.0029557\ttotal: 5.06s\tremaining: 24.7s\n",
            "17:\tlearn: 0.0027603\ttotal: 5.35s\tremaining: 24.4s\n",
            "18:\tlearn: 0.0025987\ttotal: 5.64s\tremaining: 24s\n",
            "19:\tlearn: 0.0024812\ttotal: 5.93s\tremaining: 23.7s\n",
            "20:\tlearn: 0.0023710\ttotal: 6.21s\tremaining: 23.4s\n",
            "21:\tlearn: 0.0022835\ttotal: 6.5s\tremaining: 23s\n",
            "22:\tlearn: 0.0022218\ttotal: 6.77s\tremaining: 22.7s\n",
            "23:\tlearn: 0.0021457\ttotal: 7.07s\tremaining: 22.4s\n",
            "24:\tlearn: 0.0020800\ttotal: 7.36s\tremaining: 22.1s\n",
            "25:\tlearn: 0.0020408\ttotal: 7.64s\tremaining: 21.7s\n",
            "26:\tlearn: 0.0019986\ttotal: 7.94s\tremaining: 21.5s\n",
            "27:\tlearn: 0.0019612\ttotal: 8.22s\tremaining: 21.1s\n",
            "28:\tlearn: 0.0019198\ttotal: 8.52s\tremaining: 20.9s\n",
            "29:\tlearn: 0.0018967\ttotal: 8.8s\tremaining: 20.5s\n",
            "30:\tlearn: 0.0018544\ttotal: 9.1s\tremaining: 20.3s\n",
            "31:\tlearn: 0.0018242\ttotal: 9.39s\tremaining: 20s\n",
            "32:\tlearn: 0.0017926\ttotal: 9.68s\tremaining: 19.7s\n",
            "33:\tlearn: 0.0017657\ttotal: 9.96s\tremaining: 19.3s\n",
            "34:\tlearn: 0.0017383\ttotal: 10.3s\tremaining: 19.1s\n",
            "35:\tlearn: 0.0017232\ttotal: 10.6s\tremaining: 18.8s\n",
            "36:\tlearn: 0.0017010\ttotal: 10.8s\tremaining: 18.5s\n",
            "37:\tlearn: 0.0016887\ttotal: 11.1s\tremaining: 18.2s\n",
            "38:\tlearn: 0.0016678\ttotal: 11.4s\tremaining: 17.9s\n",
            "39:\tlearn: 0.0016498\ttotal: 11.7s\tremaining: 17.5s\n",
            "40:\tlearn: 0.0016215\ttotal: 12s\tremaining: 17.2s\n",
            "41:\tlearn: 0.0015993\ttotal: 12.3s\tremaining: 16.9s\n",
            "42:\tlearn: 0.0015846\ttotal: 12.6s\tremaining: 16.7s\n",
            "43:\tlearn: 0.0015461\ttotal: 12.9s\tremaining: 16.4s\n",
            "44:\tlearn: 0.0015277\ttotal: 13.2s\tremaining: 16.1s\n",
            "45:\tlearn: 0.0015052\ttotal: 13.5s\tremaining: 15.8s\n",
            "46:\tlearn: 0.0014868\ttotal: 13.7s\tremaining: 15.5s\n",
            "47:\tlearn: 0.0014792\ttotal: 14s\tremaining: 15.2s\n",
            "48:\tlearn: 0.0014640\ttotal: 14.3s\tremaining: 14.9s\n",
            "49:\tlearn: 0.0014383\ttotal: 14.6s\tremaining: 14.6s\n",
            "50:\tlearn: 0.0014239\ttotal: 14.9s\tremaining: 14.3s\n",
            "51:\tlearn: 0.0013807\ttotal: 15.2s\tremaining: 14s\n",
            "52:\tlearn: 0.0013509\ttotal: 15.5s\tremaining: 13.7s\n",
            "53:\tlearn: 0.0013284\ttotal: 15.8s\tremaining: 13.5s\n",
            "54:\tlearn: 0.0013149\ttotal: 16.1s\tremaining: 13.2s\n",
            "55:\tlearn: 0.0013054\ttotal: 16.4s\tremaining: 12.9s\n",
            "56:\tlearn: 0.0012892\ttotal: 16.7s\tremaining: 12.6s\n",
            "57:\tlearn: 0.0012739\ttotal: 17s\tremaining: 12.3s\n",
            "58:\tlearn: 0.0012614\ttotal: 17.2s\tremaining: 12s\n",
            "59:\tlearn: 0.0012318\ttotal: 17.6s\tremaining: 11.7s\n",
            "60:\tlearn: 0.0012185\ttotal: 17.8s\tremaining: 11.4s\n",
            "61:\tlearn: 0.0012062\ttotal: 18.1s\tremaining: 11.1s\n",
            "62:\tlearn: 0.0011887\ttotal: 18.4s\tremaining: 10.8s\n",
            "63:\tlearn: 0.0011808\ttotal: 18.7s\tremaining: 10.5s\n",
            "64:\tlearn: 0.0011683\ttotal: 19s\tremaining: 10.2s\n",
            "65:\tlearn: 0.0011499\ttotal: 19.3s\tremaining: 9.95s\n",
            "66:\tlearn: 0.0011420\ttotal: 19.6s\tremaining: 9.65s\n",
            "67:\tlearn: 0.0011347\ttotal: 19.9s\tremaining: 9.35s\n",
            "68:\tlearn: 0.0011251\ttotal: 20.2s\tremaining: 9.06s\n",
            "69:\tlearn: 0.0011087\ttotal: 20.5s\tremaining: 8.77s\n",
            "70:\tlearn: 0.0011018\ttotal: 20.7s\tremaining: 8.47s\n",
            "71:\tlearn: 0.0010912\ttotal: 21s\tremaining: 8.18s\n",
            "72:\tlearn: 0.0010680\ttotal: 21.3s\tremaining: 7.9s\n",
            "73:\tlearn: 0.0010603\ttotal: 21.6s\tremaining: 7.6s\n",
            "74:\tlearn: 0.0010540\ttotal: 21.9s\tremaining: 7.3s\n",
            "75:\tlearn: 0.0010402\ttotal: 22.2s\tremaining: 7.01s\n",
            "76:\tlearn: 0.0010301\ttotal: 22.5s\tremaining: 6.72s\n",
            "77:\tlearn: 0.0010103\ttotal: 22.8s\tremaining: 6.43s\n",
            "78:\tlearn: 0.0009938\ttotal: 23.1s\tremaining: 6.14s\n",
            "79:\tlearn: 0.0009757\ttotal: 23.4s\tremaining: 5.85s\n",
            "80:\tlearn: 0.0009630\ttotal: 23.7s\tremaining: 5.56s\n",
            "81:\tlearn: 0.0009436\ttotal: 24s\tremaining: 5.27s\n",
            "82:\tlearn: 0.0009348\ttotal: 24.3s\tremaining: 4.98s\n",
            "83:\tlearn: 0.0009262\ttotal: 24.6s\tremaining: 4.69s\n",
            "84:\tlearn: 0.0009172\ttotal: 24.9s\tremaining: 4.39s\n",
            "85:\tlearn: 0.0009052\ttotal: 25.2s\tremaining: 4.1s\n",
            "86:\tlearn: 0.0008954\ttotal: 25.5s\tremaining: 3.81s\n",
            "87:\tlearn: 0.0008865\ttotal: 25.8s\tremaining: 3.52s\n",
            "88:\tlearn: 0.0008798\ttotal: 26.1s\tremaining: 3.22s\n",
            "89:\tlearn: 0.0008665\ttotal: 26.4s\tremaining: 2.93s\n",
            "90:\tlearn: 0.0008578\ttotal: 26.7s\tremaining: 2.64s\n",
            "91:\tlearn: 0.0008477\ttotal: 27s\tremaining: 2.34s\n",
            "92:\tlearn: 0.0008392\ttotal: 27.2s\tremaining: 2.05s\n",
            "93:\tlearn: 0.0008342\ttotal: 27.6s\tremaining: 1.76s\n",
            "94:\tlearn: 0.0008269\ttotal: 27.8s\tremaining: 1.47s\n",
            "95:\tlearn: 0.0008163\ttotal: 28.1s\tremaining: 1.17s\n",
            "96:\tlearn: 0.0008061\ttotal: 28.4s\tremaining: 879ms\n",
            "97:\tlearn: 0.0007953\ttotal: 28.7s\tremaining: 586ms\n",
            "98:\tlearn: 0.0007868\ttotal: 29s\tremaining: 293ms\n",
            "99:\tlearn: 0.0007755\ttotal: 29.3s\tremaining: 0us\n"
          ]
        },
        {
          "output_type": "execute_result",
          "data": {
            "text/plain": [
              "<catboost.core.CatBoostClassifier at 0x7fea2d7728d0>"
            ]
          },
          "metadata": {},
          "execution_count": 35
        }
      ]
    },
    {
      "cell_type": "code",
      "source": [
        "y_pred=clf.predict(X_val)\n",
        "y_pred[:10]"
      ],
      "metadata": {
        "colab": {
          "base_uri": "https://localhost:8080/"
        },
        "id": "GiBHmKf5KiiZ",
        "outputId": "287384a2-dd3f-4afb-8d5e-e30c21bc88e8"
      },
      "execution_count": 36,
      "outputs": [
        {
          "output_type": "execute_result",
          "data": {
            "text/plain": [
              "array([0, 0, 0, 0, 0, 0, 0, 0, 0, 0])"
            ]
          },
          "metadata": {},
          "execution_count": 36
        }
      ]
    },
    {
      "cell_type": "code",
      "source": [
        "feature_importance = sorted(zip(map(lambda x: round(x, 4), \n",
        "                                    clf.feature_importances_), \n",
        "                                X_features), \n",
        "             reverse=True)\n",
        "\n",
        "for i in range(len(feature_importance)):\n",
        "  print(feature_importance[i])"
      ],
      "metadata": {
        "colab": {
          "base_uri": "https://localhost:8080/"
        },
        "id": "YvdQjksb69I0",
        "outputId": "873ef755-2141-4dda-9d7e-af2dabb3f8c6"
      },
      "execution_count": 77,
      "outputs": [
        {
          "output_type": "stream",
          "name": "stdout",
          "text": [
            "(7.5517, 'V26')\n",
            "(6.9818, 'V1')\n",
            "(6.9344, 'Amount')\n",
            "(5.3564, 'V15')\n",
            "(4.7185, 'V4')\n",
            "(4.6177, 'V28')\n",
            "(4.4398, 'V12')\n",
            "(4.4149, 'V13')\n",
            "(4.3391, 'V17')\n",
            "(3.6747, 'V22')\n",
            "(3.5708, 'V21')\n",
            "(3.4308, 'V14')\n",
            "(3.4221, 'V27')\n",
            "(3.1338, 'V8')\n",
            "(3.1163, 'V24')\n",
            "(2.8686, 'V6')\n",
            "(2.8682, 'V9')\n",
            "(2.8324, 'V10')\n",
            "(2.5361, 'V25')\n",
            "(2.4976, 'V16')\n",
            "(2.4905, 'V18')\n",
            "(2.4647, 'V11')\n",
            "(2.128, 'V5')\n",
            "(1.9781, 'V7')\n",
            "(1.926, 'V20')\n",
            "(1.7523, 'V3')\n",
            "(1.6969, 'V19')\n",
            "(1.2703, 'V23')\n",
            "(0.9875, 'V2')\n"
          ]
        }
      ]
    },
    {
      "cell_type": "code",
      "source": [
        "#X_val[1917:1925].to_csv(\"test.csv\")"
      ],
      "metadata": {
        "id": "RamZNGqU9uTo"
      },
      "execution_count": 78,
      "outputs": []
    },
    {
      "cell_type": "code",
      "source": [
        "clf.score(X_val,y_val)"
      ],
      "metadata": {
        "colab": {
          "base_uri": "https://localhost:8080/"
        },
        "id": "dE_b7hzcMEKo",
        "outputId": "162729b0-3d84-4806-a79b-d50db42957cd"
      },
      "execution_count": 55,
      "outputs": [
        {
          "output_type": "execute_result",
          "data": {
            "text/plain": [
              "0.9996666666666667"
            ]
          },
          "metadata": {},
          "execution_count": 55
        }
      ]
    },
    {
      "cell_type": "code",
      "source": [
        "y_t = clf.predict(test_df[X_features])\n",
        "clf.score(y_t,test_df['Class'])"
      ],
      "metadata": {
        "colab": {
          "base_uri": "https://localhost:8080/"
        },
        "id": "IEBIo3Ta1Ljr",
        "outputId": "856605ab-b996-4f5f-fca5-205f8b8065fb"
      },
      "execution_count": 56,
      "outputs": [
        {
          "output_type": "execute_result",
          "data": {
            "text/plain": [
              "0.9991678801747451"
            ]
          },
          "metadata": {},
          "execution_count": 56
        }
      ]
    },
    {
      "cell_type": "code",
      "source": [
        "metrics.f1_score(y_val,y_pred)"
      ],
      "metadata": {
        "colab": {
          "base_uri": "https://localhost:8080/"
        },
        "id": "Vis96q83MY8Y",
        "outputId": "62c5ffa5-8f6d-48e1-fa7e-e9b489b9249e"
      },
      "execution_count": 57,
      "outputs": [
        {
          "output_type": "execute_result",
          "data": {
            "text/plain": [
              "0.8870967741935484"
            ]
          },
          "metadata": {},
          "execution_count": 57
        }
      ]
    },
    {
      "cell_type": "code",
      "source": [
        "#построим матрицу сопряженности confusion matrix\n",
        "target_names = ['fraud operation 1', 'normal operation 0']\n",
        "report = metrics.classification_report(y_val, y_pred,target_names=target_names)\n",
        "report.split('\\n')\n",
        "print(report[:170])"
      ],
      "metadata": {
        "colab": {
          "base_uri": "https://localhost:8080/"
        },
        "id": "XeF3A8rsBlbh",
        "outputId": "b6dc4d6d-02f0-4a25-ed96-5fd8c75f2fa0"
      },
      "execution_count": 81,
      "outputs": [
        {
          "output_type": "stream",
          "name": "stdout",
          "text": [
            "                    precision    recall  f1-score   support\n",
            "\n",
            " fraud operation 1       1.00      1.00      1.00     83864\n",
            "normal operation 0       0.98      0.81      0.89\n"
          ]
        }
      ]
    },
    {
      "cell_type": "markdown",
      "source": [
        "ошибки первого рода - пропуск цели\n",
        "\n",
        "ошибки второго рода - ложное срабатывание"
      ],
      "metadata": {
        "id": "iAvO1CxbFY06"
      }
    },
    {
      "cell_type": "code",
      "source": [
        "clf.save_model('clf_cb03.cbm',\n",
        "               format='cbm')"
      ],
      "metadata": {
        "id": "s6zd7w-wEmVO"
      },
      "execution_count": 58,
      "outputs": []
    },
    {
      "cell_type": "code",
      "source": [
        "!ls"
      ],
      "metadata": {
        "colab": {
          "base_uri": "https://localhost:8080/"
        },
        "id": "DZQrKBe51nzy",
        "outputId": "366f88fc-4b0b-45f5-a1e4-ab0c94a85f5b"
      },
      "execution_count": 59,
      "outputs": [
        {
          "output_type": "stream",
          "name": "stdout",
          "text": [
            "archive.zip    clf_cb03.cbm    gdrive\t    test.csv\n",
            "catboost_info  creditcard.csv  sample_data\n"
          ]
        }
      ]
    },
    {
      "cell_type": "code",
      "source": [
        "#load binary file, we will use in web application\n",
        "from google.colab import files\n",
        "files.download('clf_cb03.cbm')"
      ],
      "metadata": {
        "colab": {
          "base_uri": "https://localhost:8080/",
          "height": 17
        },
        "id": "uqpihkVD1pQI",
        "outputId": "6dc400d3-12cf-46b8-8798-ce7fa8685c74"
      },
      "execution_count": 79,
      "outputs": [
        {
          "output_type": "display_data",
          "data": {
            "text/plain": [
              "<IPython.core.display.Javascript object>"
            ],
            "application/javascript": [
              "\n",
              "    async function download(id, filename, size) {\n",
              "      if (!google.colab.kernel.accessAllowed) {\n",
              "        return;\n",
              "      }\n",
              "      const div = document.createElement('div');\n",
              "      const label = document.createElement('label');\n",
              "      label.textContent = `Downloading \"${filename}\": `;\n",
              "      div.appendChild(label);\n",
              "      const progress = document.createElement('progress');\n",
              "      progress.max = size;\n",
              "      div.appendChild(progress);\n",
              "      document.body.appendChild(div);\n",
              "\n",
              "      const buffers = [];\n",
              "      let downloaded = 0;\n",
              "\n",
              "      const channel = await google.colab.kernel.comms.open(id);\n",
              "      // Send a message to notify the kernel that we're ready.\n",
              "      channel.send({})\n",
              "\n",
              "      for await (const message of channel.messages) {\n",
              "        // Send a message to notify the kernel that we're ready.\n",
              "        channel.send({})\n",
              "        if (message.buffers) {\n",
              "          for (const buffer of message.buffers) {\n",
              "            buffers.push(buffer);\n",
              "            downloaded += buffer.byteLength;\n",
              "            progress.value = downloaded;\n",
              "          }\n",
              "        }\n",
              "      }\n",
              "      const blob = new Blob(buffers, {type: 'application/binary'});\n",
              "      const a = document.createElement('a');\n",
              "      a.href = window.URL.createObjectURL(blob);\n",
              "      a.download = filename;\n",
              "      div.appendChild(a);\n",
              "      a.click();\n",
              "      div.remove();\n",
              "    }\n",
              "  "
            ]
          },
          "metadata": {}
        },
        {
          "output_type": "display_data",
          "data": {
            "text/plain": [
              "<IPython.core.display.Javascript object>"
            ],
            "application/javascript": [
              "download(\"download_2932c748-a771-4d43-96d9-b5fc7fe8c20e\", \"clf_cb03.cbm\", 3296808)"
            ]
          },
          "metadata": {}
        }
      ]
    },
    {
      "cell_type": "code",
      "source": [
        ""
      ],
      "metadata": {
        "id": "vdOaB5YFiPFE"
      },
      "execution_count": null,
      "outputs": []
    },
    {
      "cell_type": "code",
      "source": [
        ""
      ],
      "metadata": {
        "id": "coVxQQp6Ema7"
      },
      "execution_count": null,
      "outputs": []
    }
  ]
}